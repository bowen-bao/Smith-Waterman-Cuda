{
 "cells": [
  {
   "cell_type": "markdown",
   "metadata": {},
   "source": [
    "This assignment is due Thursday, May 7, 2020 at 11:59 PM.  The instructors will clone a copy of your assignment repository and use the last version checked in before the due date.\n"
   ]
  },
  {
   "cell_type": "markdown",
   "metadata": {},
   "source": [
    "# 1."
   ]
  },
  {
   "cell_type": "markdown",
   "metadata": {},
   "source": [
    "Protein searches are usually more informative than DNA searches. Using the NCBI webservice, conduct a [*blastp*](https://blast.ncbi.nlm.nih.gov/Blast.cgi?PAGE=Proteins) search using RBP4 (NP_006735), restricting the output to Arthropoda (insects). Next, do a [*blastn*](https://blast.ncbi.nlm.nih.gov/Blast.cgi?PROGRAM=blastn&PAGE_TYPE=BlastSearch&BLAST_SPEC=&LINK_LOC=blasttab&LAST_PAGE=blastp) search using the RBP4 nucleotide sequence (NM_006744). _Make sure to select only the nucleotides corresponding to the coding region of the DNA._"
   ]
  },
  {
   "cell_type": "markdown",
   "metadata": {},
   "source": [
    "* Which search is more informative? "
   ]
  },
  {
   "cell_type": "code",
   "execution_count": null,
   "metadata": {
    "collapsed": true
   },
   "outputs": [],
   "source": [
    "Blastp should be more informative because dna searches could have different strings that translate to the \n",
    "same amino acid that translates to the same protein. Whereas different proteins have different features.  "
   ]
  },
  {
   "cell_type": "markdown",
   "metadata": {},
   "source": [
    "* How many databases matches have an E-value less than 1.0 in each search? "
   ]
  },
  {
   "cell_type": "code",
   "execution_count": null,
   "metadata": {
    "collapsed": true
   },
   "outputs": [],
   "source": [
    "Blastp: 491\n",
    "Blastn: 1309"
   ]
  },
  {
   "cell_type": "markdown",
   "metadata": {},
   "source": [
    "# 2."
   ]
  },
  {
   "cell_type": "markdown",
   "metadata": {},
   "source": [
    "Perform a *blastp* search at NCBI using the following query of just 12 amino acids: `PNLHGLFGRKTG`. By default, the parameters are adjusted for short queries. Inspect the *search summary* of the output for this query."
   ]
  },
  {
   "cell_type": "markdown",
   "metadata": {},
   "source": [
    "* What is the E value cutoff? "
   ]
  },
  {
   "cell_type": "code",
   "execution_count": null,
   "metadata": {
    "collapsed": true
   },
   "outputs": [],
   "source": [
    "200000"
   ]
  },
  {
   "cell_type": "markdown",
   "metadata": {},
   "source": [
    "* What is the word size? "
   ]
  },
  {
   "cell_type": "code",
   "execution_count": null,
   "metadata": {
    "collapsed": true
   },
   "outputs": [],
   "source": [
    "2"
   ]
  },
  {
   "cell_type": "markdown",
   "metadata": {},
   "source": [
    "* What is the scoring matrix? "
   ]
  },
  {
   "cell_type": "code",
   "execution_count": null,
   "metadata": {
    "collapsed": true
   },
   "outputs": [],
   "source": [
    "PAM30"
   ]
  },
  {
   "cell_type": "markdown",
   "metadata": {},
   "source": [
    "* How do these settings compare to the default parameters? "
   ]
  },
  {
   "cell_type": "code",
   "execution_count": null,
   "metadata": {
    "collapsed": true
   },
   "outputs": [],
   "source": [
    "default:\n",
    "    E value: 10 \n",
    "    Word size: 6\n",
    "    Matrix: Blosum62 "
   ]
  },
  {
   "cell_type": "markdown",
   "metadata": {},
   "source": [
    "# 3."
   ]
  },
  {
   "cell_type": "markdown",
   "metadata": {},
   "source": [
    "The E-value (E) gives a measure of the number of false results (false positives) you would expect to see if you used a given alignment score threshold."
   ]
  },
  {
   "cell_type": "markdown",
   "metadata": {},
   "source": [
    "* How would you expect the E-value E to change if we double the length of our query sequence?"
   ]
  },
  {
   "cell_type": "code",
   "execution_count": null,
   "metadata": {
    "collapsed": true
   },
   "outputs": [],
   "source": [
    "E = Kmne^-lambdaS\n",
    "\n",
    "Doubling the length of either sequence should double E "
   ]
  },
  {
   "cell_type": "markdown",
   "metadata": {},
   "source": [
    "* How would you expect the E-value E to change if we cut the size of our database in half?"
   ]
  },
  {
   "cell_type": "code",
   "execution_count": null,
   "metadata": {
    "collapsed": true
   },
   "outputs": [],
   "source": [
    "Since m and n also represent database size, if m or n is halved, E is halved too "
   ]
  },
  {
   "cell_type": "markdown",
   "metadata": {},
   "source": [
    "* In general, would you expect the E-value E to change if we use a different scoring matrix?"
   ]
  },
  {
   "cell_type": "code",
   "execution_count": null,
   "metadata": {},
   "outputs": [],
   "source": [
    "Using a different scoring matrix would change S. Increasing S would make high segment pairs with at least \n",
    "score S exponentially less likely to find. Decreasing S would make it exponentially easier to find. Depending \n",
    "how the scoring matrix affects S, E would increase or decrease exponentially."
   ]
  },
  {
   "cell_type": "markdown",
   "metadata": {},
   "source": [
    "# 4."
   ]
  },
  {
   "cell_type": "markdown",
   "metadata": {},
   "source": [
    "Is a hippopotamus more closely related to a pig or to a whale? To answer this question, first find the protein sequence of hemoglobin from each of those three organisms. Next, perform pairwise sequence alignments and record the percent amino acid identities. Does your answer change if you use conserved amino acids instead?"
   ]
  },
  {
   "cell_type": "code",
   "execution_count": null,
   "metadata": {},
   "outputs": [],
   "source": [
    "Hippo: P19016.1 \n",
    "Pig: NP_001138313.1\n",
    "Whale: QFF91580.1\n",
    "    \n",
    "Using the Hippo Ascension number and limiting the organism to pig, the highest percentage is 87.20% with \n",
    "the next few following at 86.99%. The E-values are 2e-77, and 7e-92\n",
    "\n",
    "Limiting the organism to whale, the highest percentage is 88.36% with a E-value of 8 e-93. \n",
    "\n",
    "By this, the whale is more closely related. \n",
    "\n",
    "My answers don't change if I use conserved amino acids"
   ]
  },
  {
   "cell_type": "markdown",
   "metadata": {},
   "source": [
    "Identify and justify another protein that could be used to establish evolutionary relatedness?  "
   ]
  },
  {
   "cell_type": "code",
   "execution_count": null,
   "metadata": {
    "collapsed": true
   },
   "outputs": [],
   "source": [
    "Respiratory protein: Since the hippo is both a land and water animal, while a pig is a pure land animal \n",
    "    and a whale is a pure water animal. "
   ]
  },
  {
   "cell_type": "markdown",
   "metadata": {},
   "source": [
    "Does performing the same analysis with your new protein change the conclusion you drew using hemoglobin?"
   ]
  },
  {
   "cell_type": "code",
   "execution_count": null,
   "metadata": {
    "collapsed": true
   },
   "outputs": [],
   "source": [
    "Hippo: BAH23366.1\n",
    "\n",
    "    Using the mitochondrian protein for cellular respiration, we get the following:\n",
    "        \n",
    "Whale: Percent 87.60%, E-value: 0.0\n",
    "Pig: Percent 89.45%, E-value: 0.0\n",
    "        \n",
    "    With this, the pig is slightly more related to the hippo, which is a different conclusion than what we \n",
    "    get in the first. "
   ]
  },
  {
   "cell_type": "markdown",
   "metadata": {},
   "source": [
    "# 5."
   ]
  },
  {
   "cell_type": "markdown",
   "metadata": {},
   "source": [
    "What is Delta-Blast at NCBI?  How does it differ from other programs in the BLAST suite?"
   ]
  },
  {
   "cell_type": "code",
   "execution_count": null,
   "metadata": {},
   "outputs": [],
   "source": [
    "Delta Blast searches a database of pre-constructed PSSMs before searching Blastp, \n",
    "to better find homologs but to avoid the time spent on initial protein base search. \n",
    "The initial search is on NCBI’s Conserved Domain Database (CDD). \n",
    "\n",
    "This differs from other programs because it accelerates search time by using a pre-constructed \n",
    "database and detects remote homologs. "
   ]
  },
  {
   "cell_type": "markdown",
   "metadata": {},
   "source": [
    "# 6."
   ]
  },
  {
   "cell_type": "markdown",
   "metadata": {},
   "source": [
    "Using the RCC version of Blastplus, conduct a series of runs to determine the optimal number of threads to run on a single node.  Conduct a blastp search against the pdb, swissprot, refseq_protein, and nr databases using a single node configuration. Conduct multiple runs and vary the number of cpus per node to 1, 2, 4, 8, and 16.  This can be accomplished by changing `.sbatch` file and updating the Slurm variables. \n",
    "\n",
    "Record the overall run time for each iteration.\n",
    "\n",
    "- The databases we will be using are located on a shared directory for the class located at `/project2/mpcs56420/db`. You will need to alter (or create multiple scripts) to change the database.\n",
    "\n",
    "- Query sequence:\n",
    "``` \n",
    ">YP_009724390.1 surface glycoprotein [Severe acute respiratory syndrome coronavirus 2]\n",
    "MFVFLVLLPLVSSQCVNLTTRTQLPPAYTNSFTRGVYYPDKVFRSSVLHSTQDLFLPFFSNVTWFHAIHV\n",
    "SGTNGTKRFDNPVLPFNDGVYFASTEKSNIIRGWIFGTTLDSKTQSLLIVNNATNVVIKVCEFQFCNDPF\n",
    "LGVYYHKNNKSWMESEFRVYSSANNCTFEYVSQPFLMDLEGKQGNFKNLREFVFKNIDGYFKIYSKHTPI\n",
    "NLVRDLPQGFSALEPLVDLPIGINITRFQTLLALHRSYLTPGDSSSGWTAGAAAYYVGYLQPRTFLLKYN\n",
    "ENGTITDAVDCALDPLSETKCTLKSFTVEKGIYQTSNFRVQPTESIVRFPNITNLCPFGEVFNATRFASV\n",
    "YAWNRKRISNCVADYSVLYNSASFSTFKCYGVSPTKLNDLCFTNVYADSFVIRGDEVRQIAPGQTGKIAD\n",
    "YNYKLPDDFTGCVIAWNSNNLDSKVGGNYNYLYRLFRKSNLKPFERDISTEIYQAGSTPCNGVEGFNCYF\n",
    "PLQSYGFQPTNGVGYQPYRVVVLSFELLHAPATVCGPKKSTNLVKNKCVNFNFNGLTGTGVLTESNKKFL\n",
    "PFQQFGRDIADTTDAVRDPQTLEILDITPCSFGGVSVITPGTNTSNQVAVLYQDVNCTEVPVAIHADQLT\n",
    "PTWRVYSTGSNVFQTRAGCLIGAEHVNNSYECDIPIGAGICASYQTQTNSPRRARSVASQSIIAYTMSLG\n",
    "AENSVAYSNNSIAIPTNFTISVTTEILPVSMTKTSVDCTMYICGDSTECSNLLLQYGSFCTQLNRALTGI\n",
    "AVEQDKNTQEVFAQVKQIYKTPPIKDFGGFNFSQILPDPSKPSKRSFIEDLLFNKVTLADAGFIKQYGDC\n",
    "LGDIAARDLICAQKFNGLTVLPPLLTDEMIAQYTSALLAGTITSGWTFGAGAALQIPFAMQMAYRFNGIG\n",
    "VTQNVLYENQKLIANQFNSAIGKIQDSLSSTASALGKLQDVVNQNAQALNTLVKQLSSNFGAISSVLNDI\n",
    "LSRLDKVEAEVQIDRLITGRLQSLQTYVTQQLIRAAEIRASANLAATKMSECVLGQSKRVDFCGKGYHLM\n",
    "SFPQSAPHGVVFLHVTYVPAQEKNFTTAPAICHDGKAHFPREGVFVSNGTHWFVTQRNFYEPQIITTDNT\n",
    "FVSGNCDVVIGIVNNTVYDPLQPELDSFKEELDKYFKNHTSPDVDLGDISGINASVVNIQKEIDRLNEVA\n",
    "KNLNESLIDLQELGKYEQYIKWPWYIWLGFIAGLIAIVMVTIMLCCMTSCCSCLKGCCSCGSCCKFDEDD\n",
    "SEPVLKGVKLHYT\n",
    "```"
   ]
  },
  {
   "cell_type": "markdown",
   "metadata": {},
   "source": [
    "What do the results suggest would be the optimal number of threads to use on a single core to minimize the run time?  "
   ]
  },
  {
   "cell_type": "code",
   "execution_count": null,
   "metadata": {
    "collapsed": true
   },
   "outputs": [],
   "source": [
    "CPUs\tSwissprot\tJob ID\tPdb\t\tJob ID\tref_seq\tJob ID\tnr \t\tJob ID\tTotal Time \n",
    "1\t\t0:00:13\t\t\t\t0:00:11\t903295\t0:54:38\t903381\t1:34:31\t903461\t2:29:33\n",
    "2\t\t0:00:49\t\t872493\t0:00:11\t903297\t2:40:05\t903396\t3:59:04\t903464\t6:40:09\n",
    "4\t\t0:00:21\t\t872593\t0:00:11\t903299\t2:38:54\t903397\t3:59:04\t903467\t6:38:30\n",
    "8\t\t0:00:20\t\t872594\t0:00:11\t903300\t2:39:05\t903398\t3:59:03\t903470\t6:38:39\n",
    "16\t\t0:00:22\t\t872595\t0:00:16\t896217\t2:38:54\t903399\t3:59:04\t903474\t6:38:36\n",
    "                                        \n",
    "From the times above, 1 cpu is the optimal number of threads. Dividing work up on multiple CPUs actually \n",
    "make the operation a few factors slower. "
   ]
  },
  {
   "cell_type": "markdown",
   "metadata": {},
   "source": [
    "Can you suggest or find reasons to explain the observed behavior?"
   ]
  },
  {
   "cell_type": "code",
   "execution_count": null,
   "metadata": {
    "collapsed": true
   },
   "outputs": [],
   "source": [
    "This could be because dividng the work up requires time to process, making it slower. "
   ]
  },
  {
   "cell_type": "markdown",
   "metadata": {},
   "source": [
    "# 7."
   ]
  },
  {
   "cell_type": "markdown",
   "metadata": {},
   "source": [
    "One of the simplest ways to parrallelize a computing task is to break it in to smaller parts.  Write a SLURM submission script that submits the above query against the fragmented *nr* database.  The fragmented *nr* database is located in the `db` diretory in the format: `/project2/mpcs56420/db/refseq_protein.[00-21]`.  \n",
    "\n",
    "You should create a single script that utilizes the SLURM *array job* functionality.  For this example, use 1 task per node.  Show your script below.  "
   ]
  },
  {
   "cell_type": "markdown",
   "metadata": {},
   "source": [
    "\n"
   ]
  },
  {
   "cell_type": "markdown",
   "metadata": {},
   "source": [
    "What is the runtime for the entire job?"
   ]
  },
  {
   "cell_type": "code",
   "execution_count": null,
   "metadata": {},
   "outputs": [],
   "source": [
    "(mpcs56420) [bbao@midway-login2 RCC-Utilities]$ sbatch qseven.sbatch \n",
    "Submitted batch job 873374\n",
    "\n",
    "16 minutes "
   ]
  },
  {
   "cell_type": "code",
   "execution_count": null,
   "metadata": {},
   "outputs": [],
   "source": [
    "\n",
    "[bbao@midway-login1 RCC-Utilities]$ less qseven.sbatch \n",
    "\n",
    "################################################################################\n",
    "`cp $0 $WORKDIR`\n",
    "`cp $QUERY $WORKDIR`\n",
    "\n",
    "\n",
    "################################################################################\n",
    "# We are interested in tracking how long these take to run.  We also\n",
    "# want to track how long the job was in the queue.  Slurm keeps an\n",
    "# output and error file for each job.  All the standard output and\n",
    "# error will be directed there.\n",
    "################################################################################\n",
    "echo \"Starting Job id: $SLURM_JOBID\"\n",
    "date\n",
    "pwd; hostname;\n",
    "\n",
    "################################################################################\n",
    "# BLAST arguments\n",
    "################################################################################\n",
    "# Use `pdb` database.  Look in the directory and see how BLAST structures the\n",
    "# files.  They chuck them into groups.\n",
    "DB=\"/project2/mpcs56420/db/refseq_protein.$PADDED_NUMBER\"\n",
    "QUERY=\"spike.fasta\"\n",
    "BLAST_RESULTS=\"$SLURM_JOBID.blast-results-$SLURM_TASKS_PER_NODE-$SLURM_CPUS_PER_TASK.txt\"\n",
    "\n",
    "# Run blastp (use time in front to track runtime)\n",
    "time blastp -query spike.fasta \\\n",
    "     -db $DB \\\n",
    "     -out $BLAST_RESULTS \\\n",
    "     -num_threads $SLURM_CPUS_PER_TASK\n",
    "\n",
    "echo \"HI from $SLURM_ARRAY_TASK_ID $SLURM_TASK_ID PRETTY_NUMBER: $PADDED_NUMBER\"\n",
    "\n",
    "################################################################################\n",
    "# Dump the Finished time to stdout so we know we are done\n",
    "################################################################################\n",
    "echo \"Done with processing...\"\n",
    "date\n",
    "\n",
    "\n",
    "################################################################################\n",
    "# All the files are written to current directory.  Copy all\n",
    "# the output files that were created to our job directory\n",
    "################################################################################\n",
    "`mv $SLURM_JOBID.out $SLURM_JOBID.err $WORKDIR`\n",
    "`mv $BLAST_RESULTS $WORKDIR`\n",
    "\n",
    "echo \"All files were moved...\"\n",
    "echo \"Script completed\"\n"
   ]
  },
  {
   "cell_type": "markdown",
   "metadata": {},
   "source": [
    "What choice did you make for setting the number of tasks per node? Did you use the default of 1 task per node or a different value? Does it make a difference?"
   ]
  },
  {
   "cell_type": "code",
   "execution_count": null,
   "metadata": {
    "collapsed": true
   },
   "outputs": [],
   "source": [
    "(mpcs56420) [bbao@midway-login1 RCC-Utilities]$ sbatch qseven16.sbatch\n",
    "Submitted batch job 903719\n",
    "\n",
    "When using 16 cpus per node, I got a runtime of 32 min. Compared to using 1 cpu per node with a runtime of 16 min, \n",
    "this is twice as slow. This is consistent with my results from Q6 where the fastest operations were run on \n",
    "1 cpu per node. "
   ]
  },
  {
   "cell_type": "markdown",
   "metadata": {},
   "source": [
    "# 8."
   ]
  },
  {
   "cell_type": "markdown",
   "metadata": {},
   "source": [
    "Now that you are familiar with using SLURM on RCC, it's time to update your sequence alignment code to run on the distributed computing resources. \n",
    "\n",
    "Update your code for local and global sequence alignment to search against a database of protein sequences. Your program should now take the option inputing a database in fasta format. In this mode, read in the database file then perform your sequence alignment against each member of the database. Save the score for each alignment. _You do not have to generate the Z scores_.\n",
    "\n",
    "In addition, update your code to use either a PAM250 or BLOSUM62 scoring matrix instead of the simple match/mismatch score. You may continue to use a linear gap penalty.\n",
    "\n",
    "Your code should take input from command line to specify the following parameters:\n",
    "\n",
    "database file (in FASTA format)\n",
    "gap penalty\n",
    "scoring matrix (options should be PAM250 or BLOSUM62)\n",
    "output file name\n",
    "\n",
    "The output should be similiar to the following format:\n",
    "```\n",
    "Query Sequence: \n",
    ">query\n",
    "\n",
    "Database: database name: \n",
    "\n",
    "Runtime: ####\n",
    "\n",
    "> score | sequence header 1 \n",
    "> score | sequence header 2\n",
    "```\n",
    "\n",
    "Develop a SLURM script to run your program on a single node against the PDB database.\n",
    "\n"
   ]
  },
  {
   "cell_type": "code",
   "execution_count": null,
   "metadata": {},
   "outputs": [],
   "source": [
    "Attached"
   ]
  }
 ],
 "metadata": {
  "anaconda-cloud": {},
  "kernelspec": {
   "display_name": "Python 3",
   "language": "python",
   "name": "python3"
  },
  "language_info": {
   "codemirror_mode": {
    "name": "ipython",
    "version": 3
   },
   "file_extension": ".py",
   "mimetype": "text/x-python",
   "name": "python",
   "nbconvert_exporter": "python",
   "pygments_lexer": "ipython3",
   "version": "3.7.3"
  }
 },
 "nbformat": 4,
 "nbformat_minor": 2
}
